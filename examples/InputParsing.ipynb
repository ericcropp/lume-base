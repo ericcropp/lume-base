{
 "cells": [
  {
   "cell_type": "markdown",
   "id": "9513ef91",
   "metadata": {},
   "source": [
    "# "
   ]
  },
  {
   "cell_type": "markdown",
   "id": "4f9970a3",
   "metadata": {},
   "source": [
    "# Custom Parsing\n",
    "LUME-base objects can be instantiated using a single YAML file or a series of YAML files defining configuration options. The top-level file defines the base configuration options: \n",
    "- input_file\n",
    "- initial_particles\n",
    "- command\n",
    "- command_mpi\n",
    "- use_mpi\n",
    "- mpi_run\n",
    "- use_temp_dir\n",
    "- workdir\n",
    "- verbost\n",
    "- timeout \n",
    "\n",
    "The `from_yaml` class method may be used to instantiate the `Base` subclass using the top-level configuration file. Developers may implement their own logic for parsing implementation-specific input files passed to the configuration. Below, we implement the abstract, static method `input_parser` for handling images files referenced in the yaml file pertinent to `MyModel`."
   ]
  },
  {
   "cell_type": "code",
   "execution_count": 1,
   "id": "c5519b59",
   "metadata": {},
   "outputs": [],
   "source": [
    "from random import random\n",
    "from lume.base import CommandWrapper, tools\n",
    "import os\n",
    "import yaml\n",
    "import numpy as np\n",
    "import inspect\n",
    "\n",
    "\n",
    "# Print code\n",
    "from IPython.display import display, Markdown\n",
    "def sdisplay(obj):\n",
    "    spec = inspect.getsource(obj)\n",
    "    display(Markdown(f\"```python \\n {spec} \\n ```\"))\n"
   ]
  },
  {
   "cell_type": "markdown",
   "id": "2fafdf94",
   "metadata": {},
   "source": [
    "`MyModel` implements static method and adds placeholders for other abstract methods:"
   ]
  },
  {
   "cell_type": "code",
   "execution_count": 2,
   "id": "3361da84",
   "metadata": {},
   "outputs": [
    {
     "data": {
      "text/markdown": [
       "```python \n",
       " class MyModel(CommandWrapper):\n",
       "    def __init__(self, *args, variables=None, input_image=None, **kwargs):\n",
       "        super().__init__(*args, **kwargs)\n",
       "        self._input_image = input_image\n",
       "        self._variables = variables\n",
       "\n",
       "\n",
       "    #implementation of abstract method\n",
       "    @staticmethod\n",
       "    def input_parser(path):\n",
       "        config = {}\n",
       "\n",
       "        if os.path.exists(tools.full_path(path)):\n",
       "            yaml_file = tools.full_path(path)\n",
       "            config = yaml.safe_load(open(yaml_file))\n",
       "\n",
       "\n",
       "            # convention for this is that any input file paths are relative the input \n",
       "            # yaml directory\n",
       "            if \"input_image\" in config:\n",
       "                \n",
       "                # Get the yaml file root\n",
       "                root, _ = os.path.split(tools.full_path(path))\n",
       "                input_image_path = os.path.join(root, config[\"input_image\"])\n",
       "\n",
       "                if os.path.exists(tools.full_path(input_image_path)):\n",
       "                    with open(input_image_path, \"rb\") as f:\n",
       "                        config[\"input_image\"] = np.load(f)\n",
       "\n",
       "                else:\n",
       "                    print(f\"unable to resolve input impage path {input_image_path}\")\n",
       "\n",
       "        else:\n",
       "            print(f\"unable to parse model input file at {path}\")\n",
       "                \n",
       "        return config\n",
       "\n",
       "    def archive(self):\n",
       "        ...\n",
       "\n",
       "    def configure(self):\n",
       "        ...\n",
       "\n",
       "    def load_archive(self):\n",
       "        ...\n",
       "\n",
       "    def load_output(self):\n",
       "        ...\n",
       "\n",
       "    def plot(self):\n",
       "        ...\n",
       "\n",
       "    def run(self):\n",
       "        ...\n",
       "\n",
       "    def write_input(self):\n",
       "        ...\n",
       " \n",
       " ```"
      ],
      "text/plain": [
       "<IPython.core.display.Markdown object>"
      ]
     },
     "metadata": {},
     "output_type": "display_data"
    }
   ],
   "source": [
    "from lume.tests.files.test_command_wrapper_subclass import MyModel\n",
    "from lume.tests.files import LUME_CONFIG_YAML, INPUT_YAML \n",
    "\n",
    "sdisplay(MyModel)"
   ]
  },
  {
   "cell_type": "markdown",
   "id": "4513ab51",
   "metadata": {},
   "source": [
    "In this case, out configuration file looks like:"
   ]
  },
  {
   "cell_type": "code",
   "execution_count": 3,
   "id": "b97b7c10",
   "metadata": {},
   "outputs": [
    {
     "name": "stdout",
     "output_type": "stream",
     "text": [
      "input_file: test_input_file.yml\n",
      "use_temp_dir: false\n",
      "use_mpi: false\n",
      "timeout: 100\n",
      "\n"
     ]
    }
   ],
   "source": [
    "with open(LUME_CONFIG_YAML, \"r\") as stream:\n",
    "    print(stream.read())"
   ]
  },
  {
   "cell_type": "markdown",
   "id": "a94f7d26",
   "metadata": {},
   "source": [
    "And the `input_file` looks like:"
   ]
  },
  {
   "cell_type": "code",
   "execution_count": 4,
   "id": "8b66b0cc",
   "metadata": {},
   "outputs": [
    {
     "name": "stdout",
     "output_type": "stream",
     "text": [
      "input_image: test_input_image.npy\n",
      "\n",
      "variables:\n",
      "  variable_1:\n",
      "    value: 1\n",
      "\n",
      "  variable_2:\n",
      "    value: 2\n",
      "\n"
     ]
    }
   ],
   "source": [
    "with open(INPUT_YAML, \"r\") as stream:\n",
    "    print(stream.read())"
   ]
  },
  {
   "cell_type": "markdown",
   "id": "9d12a68c",
   "metadata": {},
   "source": [
    "Instantiate model:"
   ]
  },
  {
   "cell_type": "code",
   "execution_count": 5,
   "id": "c17c700e",
   "metadata": {},
   "outputs": [
    {
     "name": "stdout",
     "output_type": "stream",
     "text": [
      "Input image:\n",
      "[[0. 0. 0. ... 0. 0. 0.]\n",
      " [0. 0. 0. ... 0. 0. 0.]\n",
      " [0. 0. 0. ... 0. 0. 0.]\n",
      " ...\n",
      " [0. 0. 0. ... 0. 0. 0.]\n",
      " [0. 0. 0. ... 0. 0. 0.]\n",
      " [0. 0. 0. ... 0. 0. 0.]]\n",
      "Variables:\n",
      "{'variable_1': {'value': 1}, 'variable_2': {'value': 2}}\n"
     ]
    }
   ],
   "source": [
    "MyModel = MyModel.from_yaml(LUME_CONFIG_YAML)\n",
    "\n",
    "print(\"Input image:\")\n",
    "print(MyModel._input_image)\n",
    "print(\"Variables:\")\n",
    "print(MyModel._variables)"
   ]
  },
  {
   "cell_type": "code",
   "execution_count": null,
   "id": "934bba71",
   "metadata": {},
   "outputs": [],
   "source": []
  }
 ],
 "metadata": {
  "kernelspec": {
   "display_name": "Python 3 (ipykernel)",
   "language": "python",
   "name": "python3"
  },
  "language_info": {
   "codemirror_mode": {
    "name": "ipython",
    "version": 3
   },
   "file_extension": ".py",
   "mimetype": "text/x-python",
   "name": "python",
   "nbconvert_exporter": "python",
   "pygments_lexer": "ipython3",
   "version": "3.9.0"
  }
 },
 "nbformat": 4,
 "nbformat_minor": 5
}
